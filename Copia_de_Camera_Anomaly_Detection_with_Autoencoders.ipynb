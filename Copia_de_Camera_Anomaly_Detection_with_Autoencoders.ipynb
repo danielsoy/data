{
  "nbformat": 4,
  "nbformat_minor": 0,
  "metadata": {
    "kernelspec": {
      "display_name": "Python [conda env:AzureML]",
      "language": "python",
      "name": "conda-env-AzureML-py"
    },
    "language_info": {
      "codemirror_mode": {
        "name": "ipython",
        "version": 3
      },
      "file_extension": ".py",
      "mimetype": "text/x-python",
      "name": "python",
      "nbconvert_exporter": "python",
      "pygments_lexer": "ipython3",
      "version": "3.6.8"
    },
    "colab": {
      "name": "Copia de Camera Anomaly Detection with Autoencoders.ipynb",
      "provenance": [],
      "include_colab_link": true
    }
  },
  "cells": [
    {
      "cell_type": "markdown",
      "metadata": {
        "id": "view-in-github",
        "colab_type": "text"
      },
      "source": [
        "<a href=\"https://colab.research.google.com/github/danielsoy/data/blob/main/Copia_de_Camera_Anomaly_Detection_with_Autoencoders.ipynb\" target=\"_parent\"><img src=\"https://colab.research.google.com/assets/colab-badge.svg\" alt=\"Open In Colab\"/></a>"
      ]
    },
    {
      "cell_type": "code",
      "metadata": {
        "id": "ErW21MnPCnSV"
      },
      "source": [
        ""
      ],
      "execution_count": null,
      "outputs": []
    },
    {
      "cell_type": "code",
      "metadata": {
        "id": "SPsuQTrpCnSX"
      },
      "source": [
        ""
      ],
      "execution_count": null,
      "outputs": []
    },
    {
      "cell_type": "code",
      "metadata": {
        "colab": {
          "base_uri": "https://localhost:8080/",
          "height": 391
        },
        "id": "NUwYMWsQCnSY",
        "outputId": "1c7024b3-df85-400d-ebb6-d658a0426797"
      },
      "source": [
        "# Start building the Auto encoder\n",
        "# Import neccesary libraries\n",
        "from keras.callbacks import TensorBoard\n",
        "from keras import Sequential\n",
        "from keras .callbacks import TensorBoard\n",
        "from keras.models import Model\n",
        "from keras import Input,layers\n",
        "from tensorflow.keras.utils import to_categorical\n",
        "from keras.layers import Conv2D,UpSampling2D,MaxPooling2D,ZeroPadding2D, Dense\n",
        "from keras.preprocessing.image import ImageDataGenerator\n",
        "from keras import optimizers\n",
        "from sklearn.model_selection import train_test_split\n",
        "\n",
        "from sklearn.metrics import average_precision_score,mean_squared_error\n",
        "import matplotlib.pyplot as plt\n",
        "import numpy as np\n",
        "import pandas as pd"
      ],
      "execution_count": null,
      "outputs": [
        {
          "output_type": "error",
          "ename": "ImportError",
          "evalue": "ignored",
          "traceback": [
            "\u001b[0;31m---------------------------------------------------------------------------\u001b[0m",
            "\u001b[0;31mImportError\u001b[0m                               Traceback (most recent call last)",
            "\u001b[0;32m<ipython-input-1-cc0443a7ea9e>\u001b[0m in \u001b[0;36m<module>\u001b[0;34m()\u001b[0m\n\u001b[1;32m      6\u001b[0m \u001b[0;32mfrom\u001b[0m \u001b[0mkeras\u001b[0m\u001b[0;34m.\u001b[0m\u001b[0mmodels\u001b[0m \u001b[0;32mimport\u001b[0m \u001b[0mModel\u001b[0m\u001b[0;34m\u001b[0m\u001b[0;34m\u001b[0m\u001b[0m\n\u001b[1;32m      7\u001b[0m \u001b[0;32mfrom\u001b[0m \u001b[0mkeras\u001b[0m \u001b[0;32mimport\u001b[0m \u001b[0mInput\u001b[0m\u001b[0;34m,\u001b[0m\u001b[0mlayers\u001b[0m\u001b[0;34m\u001b[0m\u001b[0;34m\u001b[0m\u001b[0m\n\u001b[0;32m----> 8\u001b[0;31m \u001b[0;32mfrom\u001b[0m \u001b[0mkeras\u001b[0m\u001b[0;34m.\u001b[0m\u001b[0mutils\u001b[0m \u001b[0;32mimport\u001b[0m \u001b[0mto_categorical\u001b[0m\u001b[0;34m\u001b[0m\u001b[0;34m\u001b[0m\u001b[0m\n\u001b[0m\u001b[1;32m      9\u001b[0m \u001b[0;32mfrom\u001b[0m \u001b[0mkeras\u001b[0m\u001b[0;34m.\u001b[0m\u001b[0mlayers\u001b[0m \u001b[0;32mimport\u001b[0m \u001b[0mConv2D\u001b[0m\u001b[0;34m,\u001b[0m\u001b[0mUpSampling2D\u001b[0m\u001b[0;34m,\u001b[0m\u001b[0mMaxPooling2D\u001b[0m\u001b[0;34m,\u001b[0m\u001b[0mZeroPadding2D\u001b[0m\u001b[0;34m,\u001b[0m \u001b[0mDense\u001b[0m\u001b[0;34m\u001b[0m\u001b[0;34m\u001b[0m\u001b[0m\n\u001b[1;32m     10\u001b[0m \u001b[0;32mfrom\u001b[0m \u001b[0mkeras\u001b[0m\u001b[0;34m.\u001b[0m\u001b[0mpreprocessing\u001b[0m\u001b[0;34m.\u001b[0m\u001b[0mimage\u001b[0m \u001b[0;32mimport\u001b[0m \u001b[0mImageDataGenerator\u001b[0m\u001b[0;34m\u001b[0m\u001b[0;34m\u001b[0m\u001b[0m\n",
            "\u001b[0;31mImportError\u001b[0m: cannot import name 'to_categorical' from 'keras.utils' (/usr/local/lib/python3.7/dist-packages/keras/utils/__init__.py)",
            "",
            "\u001b[0;31m---------------------------------------------------------------------------\u001b[0;32m\nNOTE: If your import is failing due to a missing package, you can\nmanually install dependencies using either !pip or !apt.\n\nTo view examples of installing some common dependencies, click the\n\"Open Examples\" button below.\n\u001b[0;31m---------------------------------------------------------------------------\u001b[0m\n"
          ],
          "errorDetails": {
            "actions": [
              {
                "action": "open_url",
                "actionText": "Open Examples",
                "url": "/notebooks/snippets/importing_libraries.ipynb"
              }
            ]
          }
        }
      ]
    },
    {
      "cell_type": "code",
      "metadata": {
        "id": "1guhex7PCnSa"
      },
      "source": [
        "#  Data Preprocessing\n",
        "import os,shutil\n",
        "\n",
        "#path to data\n",
        "train_path = r\"c:\\Users\\abulele\\Desktop\\Training_Data\"\n",
        "\n",
        "test_path = r\"c:\\Users\\abulele\\Desktop\\Test_Data\"\n",
        "\n",
        "augment_data =r\"c:\\Users\\abulele\\Desktop\\Training_Data\\data_augmentation\"\n"
      ],
      "execution_count": null,
      "outputs": []
    },
    {
      "cell_type": "code",
      "metadata": {
        "id": "8xwcy2GPCnSa"
      },
      "source": [
        ""
      ],
      "execution_count": null,
      "outputs": []
    },
    {
      "cell_type": "code",
      "metadata": {
        "id": "jslktca2CnSb"
      },
      "source": [
        ""
      ],
      "execution_count": null,
      "outputs": []
    },
    {
      "cell_type": "code",
      "metadata": {
        "id": "HmN_bUIlCnSb",
        "outputId": "08f51bcf-610d-4f6d-968e-a8187095984e"
      },
      "source": [
        "\n",
        "# normalize the images and Data Augmentation.\n",
        "train_datagen = ImageDataGenerator(rescale=1./255,rotation_range=40,\n",
        "    width_shift_range=0.2,\n",
        "    height_shift_range=0.2,\n",
        "    shear_range=0.2,\n",
        "    zoom_range=0.2,\n",
        "    horizontal_flip=True,\n",
        "    fill_mode='nearest')\n",
        "\n",
        "\n",
        "test_datagen = ImageDataGenerator(rescale=1./255)\n",
        "\n",
        "\n",
        "\n",
        "train_generator = train_datagen.flow_from_directory(\n",
        "    train_path,\n",
        "    target_size=(150,150),\n",
        "    batch_size=20,\n",
        "    class_mode=\"input\",\n",
        "    shuffle=True\n",
        "   )\n",
        "\n",
        "test_generator = test_datagen.flow_from_directory(\n",
        "    test_path,\n",
        "    target_size=(150,150),\n",
        "    batch_size=20,\n",
        "    class_mode=\"input\")"
      ],
      "execution_count": null,
      "outputs": [
        {
          "name": "stdout",
          "output_type": "stream",
          "text": [
            "Found 4658 images belonging to 1 classes.\n",
            "Found 2092 images belonging to 1 classes.\n"
          ]
        }
      ]
    },
    {
      "cell_type": "code",
      "metadata": {
        "id": "CuLiUHNLCnSd"
      },
      "source": [
        ""
      ],
      "execution_count": null,
      "outputs": []
    },
    {
      "cell_type": "code",
      "metadata": {
        "id": "Fq2gR4VtCnSd"
      },
      "source": [
        ""
      ],
      "execution_count": null,
      "outputs": []
    },
    {
      "cell_type": "code",
      "metadata": {
        "id": "JTBY88YYCnSe"
      },
      "source": [
        ""
      ],
      "execution_count": null,
      "outputs": []
    },
    {
      "cell_type": "code",
      "metadata": {
        "id": "hFGcur7GCnSe"
      },
      "source": [
        ""
      ],
      "execution_count": null,
      "outputs": []
    },
    {
      "cell_type": "code",
      "metadata": {
        "id": "qbA1A3UTCnSe"
      },
      "source": [
        "# Build an Auto encoder"
      ],
      "execution_count": null,
      "outputs": []
    },
    {
      "cell_type": "markdown",
      "metadata": {
        "id": "1B7b_KGcCnSf"
      },
      "source": [
        "## Auto encoders are unsupervised  machine learning models where  the target output (Y) is the input (X), therefore becomes model.fit(X,X)"
      ]
    },
    {
      "cell_type": "markdown",
      "metadata": {
        "id": "TRC9VCjMCnSh"
      },
      "source": [
        "### An auto encoder consists of three layers\n",
        "\n",
        "\n",
        "#### 1. Encoder:\n",
        "##### Encodes the input image or data as a compressed representation in a reduced dimension. The compressed image is the distorted version of the original  image."
      ]
    },
    {
      "cell_type": "code",
      "metadata": {
        "id": "JAMEDlDRCnSh",
        "outputId": "0c644297-99a9-40aa-c493-10c545034898"
      },
      "source": [
        "from IPython.display import Image\n",
        "Image(url='https://d1jnx9ba8s6j9r.cloudfront.net/blog/wp-content/uploads/2018/10/raisr-info-width-2000-528x297.png')  "
      ],
      "execution_count": null,
      "outputs": [
        {
          "data": {
            "text/html": [
              "<img src=\"https://d1jnx9ba8s6j9r.cloudfront.net/blog/wp-content/uploads/2018/10/raisr-info-width-2000-528x297.png\"/>"
            ],
            "text/plain": [
              "<IPython.core.display.Image object>"
            ]
          },
          "execution_count": 18,
          "metadata": {},
          "output_type": "execute_result"
        }
      ]
    },
    {
      "cell_type": "markdown",
      "metadata": {
        "id": "tnfBQasmCnSi"
      },
      "source": [
        "#### 2. Code:\n",
        "#####  Feeds the compressed image to the decoder.\n",
        "\n",
        "#### 3. Decoder:\n",
        "##### This layer decodes  the encoded image back to the original dimension.\n",
        "\n",
        "![image.png](attachment:image.png)\n"
      ]
    },
    {
      "cell_type": "markdown",
      "metadata": {
        "id": "wFXc8UonCnSi"
      },
      "source": [
        "\n",
        "\n",
        "<h3 style=\"color:black;\"> How will I use this ? </h1>\n",
        "<br>\n",
        "<ol> \n",
        "    <li> Train it on normal instances, so when we feed the model anomalies they will be easily detected </li>\n",
        "    <br>\n",
        "    <li> To classify new instances we  feed them to input of autoencoder</li>\n",
        "    <br>\n",
        "    <li> Get reconstruction error output and compute the resconstruction error</li>\n",
        "    <br>\n",
        "    <li> Measure the distance between the reconstructed output and input </li>\n",
        "    \n",
        "</ol>"
      ]
    },
    {
      "cell_type": "code",
      "metadata": {
        "id": "vgV37hLQCnSj"
      },
      "source": [
        "# lets get building. This the Archictecture. A deep autoencoder\n",
        "\n",
        "input_img = Input(shape=(150,150,3)) #  takes image 150X150 pixel with RGB \n",
        "\n",
        "X = Conv2D(16,(3,3), activation='relu',padding=\"same\")(input_img)\n",
        "X = MaxPooling2D((2,2), padding='same')(X)\n",
        "X = Conv2D(8, (3,3), activation='relu',padding=\"same\")(X)\n",
        "X = MaxPooling2D((2,2), padding='same')(X)\n",
        "X = Conv2D(8,(3,3), activation='relu', padding='same')(X)\n",
        "\n",
        "# Compress the image\n",
        "encoded = MaxPooling2D((2,2), padding='same', name='encoder')(X)\n",
        "\n",
        "\n",
        "\n",
        "# decoding. \n",
        "X = Conv2D(8,(3,3), activation='relu',padding=\"same\")(encoded)\n",
        "X = UpSampling2D((2,2))(X)\n",
        "X = Conv2D(8, (3,3), activation='relu',padding=\"same\")(X)\n",
        "X = UpSampling2D((2,2))(X)\n",
        "\n",
        "X = ZeroPadding2D(padding=(1, 1), input_shape=(148, 148, 16))(X)\n",
        "X = Conv2D(16, (3, 3), activation='relu')(X)\n",
        "X = UpSampling2D((2, 2))(X)\n",
        "\n",
        "\n",
        "\n",
        "\n",
        "# decoding- decodes encoded image back to original \n",
        "decoded = Conv2D(3,(3,3),activation=\"sigmoid\", padding='valid')(X)"
      ],
      "execution_count": null,
      "outputs": []
    },
    {
      "cell_type": "code",
      "metadata": {
        "id": "bbvUqbu8CnSj"
      },
      "source": [
        "#Lets define an encoder \n",
        "\n",
        "encoder = Model(input_img,encoded)"
      ],
      "execution_count": null,
      "outputs": []
    },
    {
      "cell_type": "code",
      "metadata": {
        "id": "IlK6hJFCCnSk"
      },
      "source": [
        ""
      ],
      "execution_count": null,
      "outputs": []
    },
    {
      "cell_type": "code",
      "metadata": {
        "id": "DD634eXMCnSk"
      },
      "source": [
        ""
      ],
      "execution_count": null,
      "outputs": []
    },
    {
      "cell_type": "code",
      "metadata": {
        "id": "mL4GMkRXCnSk",
        "outputId": "ec3e5e42-1f80-4dbf-ceb5-256f4a73e8a8"
      },
      "source": [
        "# define autoencoder \n",
        "\n",
        "autoencoder = Model(input_img, decoded) # Defined the model\n",
        "autoencoder.compile(optimizer='adam',loss='mse')\n",
        "autoencoder.summary()"
      ],
      "execution_count": null,
      "outputs": [
        {
          "name": "stdout",
          "output_type": "stream",
          "text": [
            "_________________________________________________________________\n",
            "Layer (type)                 Output Shape              Param #   \n",
            "=================================================================\n",
            "input_2 (InputLayer)         (None, 150, 150, 3)       0         \n",
            "_________________________________________________________________\n",
            "conv2d_8 (Conv2D)            (None, 150, 150, 16)      448       \n",
            "_________________________________________________________________\n",
            "max_pooling2d_3 (MaxPooling2 (None, 75, 75, 16)        0         \n",
            "_________________________________________________________________\n",
            "conv2d_9 (Conv2D)            (None, 75, 75, 8)         1160      \n",
            "_________________________________________________________________\n",
            "max_pooling2d_4 (MaxPooling2 (None, 38, 38, 8)         0         \n",
            "_________________________________________________________________\n",
            "conv2d_10 (Conv2D)           (None, 38, 38, 8)         584       \n",
            "_________________________________________________________________\n",
            "encoder (MaxPooling2D)       (None, 19, 19, 8)         0         \n",
            "_________________________________________________________________\n",
            "conv2d_11 (Conv2D)           (None, 19, 19, 8)         584       \n",
            "_________________________________________________________________\n",
            "up_sampling2d_4 (UpSampling2 (None, 38, 38, 8)         0         \n",
            "_________________________________________________________________\n",
            "conv2d_12 (Conv2D)           (None, 38, 38, 8)         584       \n",
            "_________________________________________________________________\n",
            "up_sampling2d_5 (UpSampling2 (None, 76, 76, 8)         0         \n",
            "_________________________________________________________________\n",
            "zero_padding2d_2 (ZeroPaddin (None, 78, 78, 8)         0         \n",
            "_________________________________________________________________\n",
            "conv2d_13 (Conv2D)           (None, 76, 76, 16)        1168      \n",
            "_________________________________________________________________\n",
            "up_sampling2d_6 (UpSampling2 (None, 152, 152, 16)      0         \n",
            "_________________________________________________________________\n",
            "conv2d_14 (Conv2D)           (None, 150, 150, 3)       435       \n",
            "=================================================================\n",
            "Total params: 4,963\n",
            "Trainable params: 4,963\n",
            "Non-trainable params: 0\n",
            "_________________________________________________________________\n"
          ]
        }
      ]
    },
    {
      "cell_type": "code",
      "metadata": {
        "id": "sNtVDAmBCnSk"
      },
      "source": [
        "# Use Tensorboard to Monitor Model\n",
        "from time import time\n",
        "\n",
        "\n",
        "tensorboard = TensorBoard(log_dir=\"logs/{}\".format(time()))"
      ],
      "execution_count": null,
      "outputs": []
    },
    {
      "cell_type": "code",
      "metadata": {
        "id": "YB2oljU0CnSk",
        "outputId": "db9a6cdb-806a-4383-b22e-cb45e5d95fcc"
      },
      "source": [
        "#  Training the autoencoder\n",
        "    \n",
        "#train the model   \n",
        "autoencoder_train = autoencoder.fit_generator(generator=train_generator,steps_per_epoch=20,\n",
        "                        epochs=30,validation_data=test_generator,\n",
        "                         validation_steps=20,shuffle=True,\n",
        "                        callbacks=[tensorboard]\n",
        "                        )"
      ],
      "execution_count": null,
      "outputs": [
        {
          "name": "stdout",
          "output_type": "stream",
          "text": [
            "Epoch 1/30\n",
            "20/20 [==============================] - 27s 1s/step - loss: 0.0094 - val_loss: 0.0215\n",
            "Epoch 2/30\n",
            "20/20 [==============================] - 19s 957ms/step - loss: 0.0095 - val_loss: 0.0216\n",
            "Epoch 3/30\n",
            "20/20 [==============================] - 19s 958ms/step - loss: 0.0100 - val_loss: 0.0214\n",
            "Epoch 4/30\n",
            "20/20 [==============================] - 19s 962ms/step - loss: 0.0094 - val_loss: 0.0214\n",
            "Epoch 5/30\n",
            "20/20 [==============================] - 19s 965ms/step - loss: 0.0093 - val_loss: 0.0214\n",
            "Epoch 6/30\n",
            "19/20 [===========================>..] - ETA: 0s - loss: 0.0094"
          ]
        }
      ]
    },
    {
      "cell_type": "code",
      "metadata": {
        "id": "X_k0HuUHCnSl",
        "outputId": "39e6fbb8-b7d7-4313-9fd5-49337d543dfc"
      },
      "source": [
        "loss = autoencoder_train.history['loss']\n",
        "val_loss = autoencoder_train.history['val_loss']\n",
        "epochs = range(100)\n",
        "plt.figure()\n",
        "plt.plot(epochs, loss, 'bo', label='Training loss')\n",
        "plt.plot(epochs, val_loss, 'b', label='Validation loss')\n",
        "plt.title('Training and validation loss')\n",
        "plt.legend()\n",
        "plt.show()\n",
        "\n",
        "\n",
        "\n"
      ],
      "execution_count": null,
      "outputs": [
        {
          "data": {
            "image/png": "[encoded data removed]",
            "text/plain": [
              "<Figure size 432x288 with 1 Axes>"
            ]
          },
          "metadata": {
            "needs_background": "light"
          },
          "output_type": "display_data"
        }
      ]
    },
    {
      "cell_type": "code",
      "metadata": {
        "id": "AlcuwOxXCnSl"
      },
      "source": [
        "#Create the encoder \n",
        "\n",
        "encoder = Model(inputs=autoencoder.input, outputs=autoencoder.get_layer('encoder').output)\n",
        "\n",
        "encoder.save('encoder.h5')"
      ],
      "execution_count": null,
      "outputs": []
    },
    {
      "cell_type": "code",
      "metadata": {
        "id": "Goi_kBh2CnSl"
      },
      "source": [
        ""
      ],
      "execution_count": null,
      "outputs": []
    },
    {
      "cell_type": "code",
      "metadata": {
        "id": "9LJ78tFBCnSl"
      },
      "source": [
        ""
      ],
      "execution_count": null,
      "outputs": []
    },
    {
      "cell_type": "code",
      "metadata": {
        "id": "oYLtwY-xCnSl"
      },
      "source": [
        ""
      ],
      "execution_count": null,
      "outputs": []
    },
    {
      "cell_type": "code",
      "metadata": {
        "id": "eE-BWZgVCnSl"
      },
      "source": [
        ""
      ],
      "execution_count": null,
      "outputs": []
    },
    {
      "cell_type": "code",
      "metadata": {
        "id": "8Kxf3S-GCnSl"
      },
      "source": [
        ""
      ],
      "execution_count": null,
      "outputs": []
    },
    {
      "cell_type": "code",
      "metadata": {
        "id": "As8S6BoWCnSm"
      },
      "source": [
        ""
      ],
      "execution_count": null,
      "outputs": []
    },
    {
      "cell_type": "code",
      "metadata": {
        "id": "Xi09WwDkCnSm"
      },
      "source": [
        ""
      ],
      "execution_count": null,
      "outputs": []
    },
    {
      "cell_type": "code",
      "metadata": {
        "id": "j5GdCuLcCnSm"
      },
      "source": [
        "for data_batch, labels_batch in test_generator:\n",
        "    print(\"data batch shape: \", data_batch.shape)\n",
        "    print(\"labels batch shape: \", labels_batch.shape)\n",
        "    break"
      ],
      "execution_count": null,
      "outputs": []
    },
    {
      "cell_type": "code",
      "metadata": {
        "id": "Q2If3KmHCnSm"
      },
      "source": [
        "predictions = autoencoder.predict_generator(test_generator, 1)"
      ],
      "execution_count": null,
      "outputs": []
    },
    {
      "cell_type": "code",
      "metadata": {
        "id": "ndNZW74HCnSm"
      },
      "source": [
        "plt.figure(figsize=(17, 10))\n",
        "print(\"Test Images\")\n",
        "for i in range(10):\n",
        "    plt.subplot(2, 10, i+1)\n",
        "    plt.imshow(data_batch[i, ..., 0])\n",
        "    curr_lbl = labels_batch[i]\n",
        "    plt.title(\"input Images\")\n",
        "plt.show()    \n",
        "plt.figure(figsize=(20, 4))\n",
        "print(\"Reconstruction of Test Images\")\n",
        "for i in range(10):\n",
        "    plt.subplot(2, 10, i+1)\n",
        "    plt.title(\"constructed\")\n",
        "    plt.imshow(predictions[i, ..., 0])  \n",
        "plt.show()"
      ],
      "execution_count": null,
      "outputs": []
    },
    {
      "cell_type": "code",
      "metadata": {
        "id": "YRacZ7IMCnSm"
      },
      "source": [
        "autoencoder.save(\"autoencoders_train.h5\")"
      ],
      "execution_count": null,
      "outputs": []
    },
    {
      "cell_type": "code",
      "metadata": {
        "id": "PWFtJQrwCnSn"
      },
      "source": [
        ""
      ],
      "execution_count": null,
      "outputs": []
    },
    {
      "cell_type": "code",
      "metadata": {
        "id": "sTqZleg8CnSn"
      },
      "source": [
        ""
      ],
      "execution_count": null,
      "outputs": []
    },
    {
      "cell_type": "code",
      "metadata": {
        "id": "tprfsYObCnSn"
      },
      "source": [
        ""
      ],
      "execution_count": null,
      "outputs": []
    },
    {
      "cell_type": "code",
      "metadata": {
        "id": "mpZJCriJCnSn"
      },
      "source": [
        ""
      ],
      "execution_count": null,
      "outputs": []
    },
    {
      "cell_type": "code",
      "metadata": {
        "id": "CBS_doFBCnSn"
      },
      "source": [
        ""
      ],
      "execution_count": null,
      "outputs": []
    },
    {
      "cell_type": "code",
      "metadata": {
        "id": "GLewTQDvCnSn"
      },
      "source": [
        "\n",
        "\n",
        "\n",
        "# Part two  \n",
        "encoded = Dense(128, activation='relu')(input_img)\n",
        "encoded = Dense(64, activation='relu')(encoded)\n",
        "encoded = Dense(32, activation='relu')(encoded)\n",
        "\n",
        "decoded = Dense(32, activation='relu')(encoded)\n",
        "decoded = Dense(64, activation='relu')(encoded)\n",
        "decoded = Dense(128, activation='relu')(decoded)\n",
        "decoded = Dense(3, activation='sigmoid')(decoded)"
      ],
      "execution_count": null,
      "outputs": []
    },
    {
      "cell_type": "code",
      "metadata": {
        "id": "SP4ctCXSCnSn"
      },
      "source": [
        "autoencoder2 = Model(input_img, decoded)\n",
        "autoencoder2.compile(optimizer='adadelta', loss='mse')\n",
        "\n",
        "autoencoder2.summary()"
      ],
      "execution_count": null,
      "outputs": []
    },
    {
      "cell_type": "code",
      "metadata": {
        "id": "R7ZWE6XNCnSn"
      },
      "source": [
        "autoencoder2.fit_generator(generator=train_generator,steps_per_epoch=20,\n",
        "                        epochs=30,validation_data=test_generator,\n",
        "                         validation_steps=2)"
      ],
      "execution_count": null,
      "outputs": []
    },
    {
      "cell_type": "code",
      "metadata": {
        "id": "WuaApdrzCnSn"
      },
      "source": [
        ""
      ],
      "execution_count": null,
      "outputs": []
    }
  ]
}