{
  "nbformat": 4,
  "nbformat_minor": 0,
  "metadata": {
    "kernelspec": {
      "display_name": "Python 3",
      "language": "python",
      "name": "python3"
    },
    "language_info": {
      "codemirror_mode": {
        "name": "ipython",
        "version": 3
      },
      "file_extension": ".py",
      "mimetype": "text/x-python",
      "name": "python",
      "nbconvert_exporter": "python",
      "pygments_lexer": "ipython3",
      "version": "3.6.4"
    },
    "colab": {
      "name": "detect_outlier.ipynb",
      "provenance": [],
      "include_colab_link": true
    }
  },
  "cells": [
    {
      "cell_type": "markdown",
      "metadata": {
        "id": "view-in-github",
        "colab_type": "text"
      },
      "source": [
        "<a href=\"https://colab.research.google.com/github/danielsoy/data/blob/main/desde_colab_detect_outlier.ipynb\" target=\"_parent\"><img src=\"https://colab.research.google.com/assets/colab-badge.svg\" alt=\"Open In Colab\"/></a>"
      ]
    },
    {
      "cell_type": "code",
      "metadata": {
        "id": "DU9NXhoiAKjK"
      },
      "source": [
        "import cv2\n",
        "import numpy as np\n",
        "from sklearn.model_selection import train_test_split\n",
        "from tensorflow.keras import Model\n",
        "from tensorflow.keras.datasets import fashion_mnist as fmnist\n",
        "from tensorflow.keras.layers import *"
      ],
      "execution_count": null,
      "outputs": []
    },
    {
      "cell_type": "code",
      "metadata": {
        "id": "U0T_FoZtAKjN"
      },
      "source": [
        "SEED = 84\n",
        "np.random.seed(SEED)"
      ],
      "execution_count": null,
      "outputs": []
    },
    {
      "cell_type": "code",
      "metadata": {
        "id": "A36S2v1ZAKjN"
      },
      "source": [
        "def build_autoencoder(input_shape=(28, 28, 1),\n",
        "                      encoding_size=96,\n",
        "                      alpha=0.2):\n",
        "    inputs = Input(shape=input_shape)\n",
        "    encoder = Conv2D(filters=32,\n",
        "                     kernel_size=(3, 3),\n",
        "                     strides=2,\n",
        "                     padding='same')(inputs)\n",
        "    encoder = LeakyReLU(alpha=alpha)(encoder)\n",
        "    encoder = BatchNormalization()(encoder)\n",
        "    encoder = Conv2D(filters=64,\n",
        "                     kernel_size=(3, 3),\n",
        "                     strides=2,\n",
        "                     padding='same')(encoder)\n",
        "    encoder = LeakyReLU(alpha=alpha)(encoder)\n",
        "    encoder = BatchNormalization()(encoder)\n",
        "    encoder_output_shape = encoder.shape\n",
        "    encoder = Flatten()(encoder)\n",
        "    encoder_output = Dense(encoding_size)(encoder)\n",
        "    encoder_model = Model(inputs, encoder_output)\n",
        "\n",
        "    # Build decoder\n",
        "    decoder_input = Input(shape=(encoding_size,))\n",
        "    target_shape = tuple(encoder_output_shape[1:])\n",
        "    decoder = Dense(np.prod(target_shape))(decoder_input)\n",
        "    decoder = Reshape(target_shape)(decoder)\n",
        "    decoder = Conv2DTranspose(filters=64,\n",
        "                              kernel_size=(3, 3),\n",
        "                              strides=2,\n",
        "                              padding='same')(decoder)\n",
        "    decoder = LeakyReLU(alpha=alpha)(decoder)\n",
        "    decoder = BatchNormalization()(decoder)\n",
        "    decoder = Conv2DTranspose(filters=32,\n",
        "                              kernel_size=(3, 3),\n",
        "                              strides=2,\n",
        "                              padding='same')(decoder)\n",
        "    decoder = LeakyReLU(alpha=alpha)(decoder)\n",
        "    decoder = BatchNormalization()(decoder)\n",
        "    decoder = Conv2DTranspose(filters=1,\n",
        "                              kernel_size=(3, 3),\n",
        "                              padding='same')(decoder)\n",
        "    outputs = Activation('sigmoid')(decoder)\n",
        "    decoder_model = Model(decoder_input, outputs)\n",
        "    encoder_model_output = encoder_model(inputs)\n",
        "    decoder_model_output = decoder_model(encoder_model_output)\n",
        "    autoencoder_model = Model(inputs, decoder_model_output)\n",
        "    return encoder_model, decoder_model, autoencoder_model"
      ],
      "execution_count": null,
      "outputs": []
    },
    {
      "cell_type": "code",
      "metadata": {
        "id": "cGa8o_2hAKjO"
      },
      "source": [
        "def create_anomalous_dataset(features,\n",
        "                             labels,\n",
        "                             regular_label,\n",
        "                             anomaly_label,\n",
        "                             corruption_proportion=0.01):\n",
        "    regular_data_idx = np.where(labels == regular_label)[0]\n",
        "    anomalous_data_idx = np.where(labels == anomaly_label)[0]\n",
        "    np.random.shuffle(regular_data_idx)\n",
        "    np.random.shuffle(anomalous_data_idx)\n",
        "    num_anomalies = int(len(regular_data_idx) *\n",
        "                        corruption_proportion)\n",
        "    anomalous_data_idx = anomalous_data_idx[:num_anomalies]\n",
        "    data = np.vstack([features[regular_data_idx],\n",
        "                      features[anomalous_data_idx]])\n",
        "    np.random.shuffle(data)\n",
        "    return data"
      ],
      "execution_count": null,
      "outputs": []
    },
    {
      "cell_type": "code",
      "metadata": {
        "id": "96AnV5dlAKjP"
      },
      "source": [
        "(X_train, y_train), (X_test, y_test) = fmnist.load_data()\n",
        "X = np.vstack([X_train, X_test])\n",
        "y = np.hstack([y_train, y_test])"
      ],
      "execution_count": null,
      "outputs": []
    },
    {
      "cell_type": "code",
      "metadata": {
        "id": "V9TmIuIyAKjQ"
      },
      "source": [
        "REGULAR_LABEL = 5  # Sandal\n",
        "ANOMALY_LABEL = 0  # T-shirt/top"
      ],
      "execution_count": null,
      "outputs": []
    },
    {
      "cell_type": "code",
      "metadata": {
        "id": "1pmW4Kc5AKjQ"
      },
      "source": [
        "data = create_anomalous_dataset(X, y,\n",
        "                                REGULAR_LABEL,\n",
        "                                ANOMALY_LABEL)"
      ],
      "execution_count": null,
      "outputs": []
    },
    {
      "cell_type": "code",
      "metadata": {
        "id": "QF-GsQe7AKjR"
      },
      "source": [
        "data = np.expand_dims(data, axis=-1)\n",
        "data = data.astype('float32') / 255.0"
      ],
      "execution_count": null,
      "outputs": []
    },
    {
      "cell_type": "code",
      "metadata": {
        "id": "SBObGtNlAKjR"
      },
      "source": [
        "X_train, X_test = train_test_split(data,\n",
        "                                   train_size=0.8,\n",
        "                                   random_state=SEED)"
      ],
      "execution_count": null,
      "outputs": []
    },
    {
      "cell_type": "code",
      "metadata": {
        "id": "GJsOMyX0AKjS"
      },
      "source": [
        "_, _, autoencoder = build_autoencoder(encoding_size=256)\n",
        "autoencoder.compile(optimizer='adam', loss='mse')"
      ],
      "execution_count": null,
      "outputs": []
    },
    {
      "cell_type": "code",
      "metadata": {
        "id": "8tkRDmuYAKjS"
      },
      "source": [
        "EPOCHS = 500\n",
        "BATCH_SIZE = 1024\n",
        "autoencoder.fit(X_train, X_train,\n",
        "                epochs=EPOCHS,\n",
        "                batch_size=BATCH_SIZE,\n",
        "                validation_data=(X_test, X_test))"
      ],
      "execution_count": null,
      "outputs": []
    },
    {
      "cell_type": "code",
      "metadata": {
        "id": "mnFAAUPTAKjS"
      },
      "source": [
        "decoded = autoencoder.predict(data)\n",
        "mses = []\n",
        "for original, generated in zip(data, decoded):\n",
        "    mse = np.mean((original - generated) ** 2)\n",
        "    mses.append(mse)"
      ],
      "execution_count": null,
      "outputs": []
    },
    {
      "cell_type": "code",
      "metadata": {
        "id": "qEvV0GSnAKjT"
      },
      "source": [
        "threshold = np.quantile(mses, 0.999)\n",
        "outlier_idx = np.where(np.array(mses) >= threshold)[0]\n",
        "print(f'Number of outliers: {len(outlier_idx)}')"
      ],
      "execution_count": null,
      "outputs": []
    },
    {
      "cell_type": "code",
      "metadata": {
        "id": "Er302RgWAKjT"
      },
      "source": [
        "decoded = (decoded * 255.0).astype('uint8')\n",
        "data = (data * 255.0).astype('uint8')"
      ],
      "execution_count": null,
      "outputs": []
    },
    {
      "cell_type": "code",
      "metadata": {
        "id": "Qk3UMbp5AKjT"
      },
      "source": [
        "for i in outlier_idx:\n",
        "    image = np.hstack([data[i].reshape(28, 28),\n",
        "                       decoded[i].reshape(28, 28)])\n",
        "    cv2.imwrite(f'{i}.jpg', image)"
      ],
      "execution_count": null,
      "outputs": []
    }
  ]
}