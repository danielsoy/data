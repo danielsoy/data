{
  "nbformat": 4,
  "nbformat_minor": 0,
  "metadata": {
    "kernelspec": {
      "display_name": "Python 3",
      "language": "python",
      "name": "python3"
    },
    "language_info": {
      "codemirror_mode": {
        "name": "ipython",
        "version": 3
      },
      "file_extension": ".py",
      "mimetype": "text/x-python",
      "name": "python",
      "nbconvert_exporter": "python",
      "pygments_lexer": "ipython3",
      "version": "3.6.4"
    },
    "colab": {
      "name": "Copia de covid19-prediction-using-cnn-6a0679.ipynb",
      "provenance": [],
      "include_colab_link": true
    }
  },
  "cells": [
    {
      "cell_type": "markdown",
      "metadata": {
        "id": "view-in-github",
        "colab_type": "text"
      },
      "source": [
        "<a href=\"https://colab.research.google.com/github/danielsoy/data/blob/main/Copia_de_covid19_prediction_using_cnn_6a0679.ipynb\" target=\"_parent\"><img src=\"https://colab.research.google.com/assets/colab-badge.svg\" alt=\"Open In Colab\"/></a>"
      ]
    },
    {
      "cell_type": "code",
      "metadata": {
        "execution": {
          "iopub.execute_input": "2021-10-23T06:23:10.190086Z",
          "iopub.status.busy": "2021-10-23T06:23:10.18941Z",
          "iopub.status.idle": "2021-10-23T06:23:17.639984Z",
          "shell.execute_reply": "2021-10-23T06:23:17.638807Z",
          "shell.execute_reply.started": "2021-10-23T06:23:10.189974Z"
        },
        "trusted": true,
        "id": "ztdY7onQBDJV"
      },
      "source": [
        "import os\n",
        "import matplotlib.pyplot as plt\n",
        "import numpy as np\n",
        "from sklearn.metrics import classification_report,confusion_matrix\n",
        "import matplotlib.image as mpimg\n",
        "from tensorflow.keras.preprocessing.image import ImageDataGenerator\n",
        "import cv2 \n",
        "import tensorflow as tf\n",
        "import numpy as np\n",
        "import pandas as pd\n",
        "import random\n",
        "\n",
        "from tensorflow import keras\n",
        "from keras import layers\n",
        "from keras import Model\n",
        "from keras.preprocessing.image import ImageDataGenerator\n",
        "from keras.applications.inception_v3 import InceptionV3"
      ],
      "execution_count": null,
      "outputs": []
    },
    {
      "cell_type": "code",
      "metadata": {
        "execution": {
          "iopub.execute_input": "2021-10-23T06:23:17.642333Z",
          "iopub.status.busy": "2021-10-23T06:23:17.641824Z",
          "iopub.status.idle": "2021-10-23T06:23:17.646265Z",
          "shell.execute_reply": "2021-10-23T06:23:17.645426Z",
          "shell.execute_reply.started": "2021-10-23T06:23:17.642258Z"
        },
        "trusted": true,
        "id": "Z3qBjMVPBDJZ"
      },
      "source": [
        "images = '../input/covid19-xray-dataset-train-test-sets/xray_dataset_covid19/train'"
      ],
      "execution_count": null,
      "outputs": []
    },
    {
      "cell_type": "code",
      "metadata": {
        "execution": {
          "iopub.execute_input": "2021-10-23T06:23:17.648411Z",
          "iopub.status.busy": "2021-10-23T06:23:17.647813Z",
          "iopub.status.idle": "2021-10-23T06:23:17.672364Z",
          "shell.execute_reply": "2021-10-23T06:23:17.671215Z",
          "shell.execute_reply.started": "2021-10-23T06:23:17.648375Z"
        },
        "trusted": true,
        "id": "7_OqrEKWBDJa"
      },
      "source": [
        "folders = os.listdir(images)\n",
        "print(folders)"
      ],
      "execution_count": null,
      "outputs": []
    },
    {
      "cell_type": "code",
      "metadata": {
        "execution": {
          "iopub.execute_input": "2021-10-23T06:23:17.674563Z",
          "iopub.status.busy": "2021-10-23T06:23:17.673901Z",
          "iopub.status.idle": "2021-10-23T06:23:18.138759Z",
          "shell.execute_reply": "2021-10-23T06:23:18.137853Z",
          "shell.execute_reply.started": "2021-10-23T06:23:17.674514Z"
        },
        "trusted": true,
        "id": "n9PCUjxhBDJb"
      },
      "source": [
        "plt.imshow(cv2.imread(\"/kaggle/input/covid19-xray-dataset-train-test-sets/xray_dataset_covid19/train/PNEUMONIA/nejmoa2001191_f1-PA.jpeg\"))"
      ],
      "execution_count": null,
      "outputs": []
    },
    {
      "cell_type": "code",
      "metadata": {
        "execution": {
          "iopub.execute_input": "2021-10-23T06:23:18.140463Z",
          "iopub.status.busy": "2021-10-23T06:23:18.139985Z",
          "iopub.status.idle": "2021-10-23T06:23:18.330813Z",
          "shell.execute_reply": "2021-10-23T06:23:18.329494Z",
          "shell.execute_reply.started": "2021-10-23T06:23:18.140417Z"
        },
        "trusted": true,
        "id": "EqWJhj82BDJb"
      },
      "source": [
        "plt.imshow(cv2.imread(\"/kaggle/input/covid19-xray-dataset-train-test-sets/xray_dataset_covid19/train/PNEUMONIA/41591_2020_819_Fig1_HTML.webp-day10.png\"))"
      ],
      "execution_count": null,
      "outputs": []
    },
    {
      "cell_type": "code",
      "metadata": {
        "execution": {
          "iopub.execute_input": "2021-10-23T06:23:18.334961Z",
          "iopub.status.busy": "2021-10-23T06:23:18.334635Z",
          "iopub.status.idle": "2021-10-23T06:23:18.340094Z",
          "shell.execute_reply": "2021-10-23T06:23:18.338656Z",
          "shell.execute_reply.started": "2021-10-23T06:23:18.334929Z"
        },
        "trusted": true,
        "id": "5m_XO95JBDJb"
      },
      "source": [
        "image_data = []\n",
        "labels = []"
      ],
      "execution_count": null,
      "outputs": []
    },
    {
      "cell_type": "code",
      "metadata": {
        "execution": {
          "iopub.execute_input": "2021-10-23T06:23:18.342497Z",
          "iopub.status.busy": "2021-10-23T06:23:18.341945Z",
          "iopub.status.idle": "2021-10-23T06:23:18.355538Z",
          "shell.execute_reply": "2021-10-23T06:23:18.354514Z",
          "shell.execute_reply.started": "2021-10-23T06:23:18.342444Z"
        },
        "trusted": true,
        "id": "XZ-WBTUsBDJc"
      },
      "source": [
        "label_dict = {\n",
        "    'PNEUMONIA':0,\n",
        "    'NORMAL':1   \n",
        "}"
      ],
      "execution_count": null,
      "outputs": []
    },
    {
      "cell_type": "code",
      "metadata": {
        "execution": {
          "iopub.execute_input": "2021-10-23T06:23:18.358361Z",
          "iopub.status.busy": "2021-10-23T06:23:18.35801Z",
          "iopub.status.idle": "2021-10-23T06:23:26.938525Z",
          "shell.execute_reply": "2021-10-23T06:23:26.937455Z",
          "shell.execute_reply.started": "2021-10-23T06:23:18.358304Z"
        },
        "trusted": true,
        "id": "jgTtGxYfBDJd"
      },
      "source": [
        "from keras.preprocessing import image\n",
        "\n",
        "for ix in folders:\n",
        "    path = os.path.join(images,ix)\n",
        "    for im in os.listdir(path):\n",
        "        img = image.load_img(os.path.join(path,im),target_size=((224,224)))\n",
        "        img_array = image.img_to_array(img)\n",
        "        image_data.append(img_array)\n",
        "        labels.append(label_dict[ix])"
      ],
      "execution_count": null,
      "outputs": []
    },
    {
      "cell_type": "code",
      "metadata": {
        "execution": {
          "iopub.execute_input": "2021-10-23T06:23:26.941126Z",
          "iopub.status.busy": "2021-10-23T06:23:26.940799Z",
          "iopub.status.idle": "2021-10-23T06:23:26.946504Z",
          "shell.execute_reply": "2021-10-23T06:23:26.945406Z",
          "shell.execute_reply.started": "2021-10-23T06:23:26.941093Z"
        },
        "trusted": true,
        "id": "XAjC0HoPBDJe"
      },
      "source": [
        "print(len(image_data),len(labels))\n"
      ],
      "execution_count": null,
      "outputs": []
    },
    {
      "cell_type": "code",
      "metadata": {
        "execution": {
          "iopub.execute_input": "2021-10-23T06:23:26.948971Z",
          "iopub.status.busy": "2021-10-23T06:23:26.948363Z",
          "iopub.status.idle": "2021-10-23T06:23:26.959416Z",
          "shell.execute_reply": "2021-10-23T06:23:26.958338Z",
          "shell.execute_reply.started": "2021-10-23T06:23:26.948925Z"
        },
        "trusted": true,
        "id": "nnwpSOSUBDJe"
      },
      "source": [
        "import random\n",
        "combined = list(zip(image_data,labels))\n",
        "random.shuffle(combined)\n",
        "image_data[:],labels[:]=zip(*combined)"
      ],
      "execution_count": null,
      "outputs": []
    },
    {
      "cell_type": "code",
      "metadata": {
        "execution": {
          "iopub.execute_input": "2021-10-23T06:23:26.961257Z",
          "iopub.status.busy": "2021-10-23T06:23:26.960749Z",
          "iopub.status.idle": "2021-10-23T06:23:27.009265Z",
          "shell.execute_reply": "2021-10-23T06:23:27.008275Z",
          "shell.execute_reply.started": "2021-10-23T06:23:26.961222Z"
        },
        "trusted": true,
        "id": "Xq3QG2N1BDJf"
      },
      "source": [
        "x_train = np.array(image_data)\n",
        "y_train = np.array(labels)\n",
        "\n",
        "print(x_train.shape,y_train.shape)"
      ],
      "execution_count": null,
      "outputs": []
    },
    {
      "cell_type": "code",
      "metadata": {
        "execution": {
          "iopub.execute_input": "2021-10-23T06:23:27.010911Z",
          "iopub.status.busy": "2021-10-23T06:23:27.010593Z",
          "iopub.status.idle": "2021-10-23T06:23:27.018025Z",
          "shell.execute_reply": "2021-10-23T06:23:27.017305Z",
          "shell.execute_reply.started": "2021-10-23T06:23:27.010878Z"
        },
        "trusted": true,
        "id": "ty5cty9OBDJf"
      },
      "source": [
        "from keras.utils import np_utils\n",
        "\n",
        "y_train = np_utils.to_categorical(y_train)\n",
        "print(x_train.shape,y_train.shape)"
      ],
      "execution_count": null,
      "outputs": []
    },
    {
      "cell_type": "code",
      "metadata": {
        "execution": {
          "iopub.execute_input": "2021-10-23T06:23:27.020014Z",
          "iopub.status.busy": "2021-10-23T06:23:27.019559Z",
          "iopub.status.idle": "2021-10-23T06:23:27.073468Z",
          "shell.execute_reply": "2021-10-23T06:23:27.072556Z",
          "shell.execute_reply.started": "2021-10-23T06:23:27.019966Z"
        },
        "trusted": true,
        "id": "3JJukF3JBDJf"
      },
      "source": [
        "augment = ImageDataGenerator( \n",
        "                              rotation_range=20,\n",
        "                              width_shift_range=0.01, \n",
        "                              height_shift_range=0.01, \n",
        "                              horizontal_flip=False, \n",
        "                              vertical_flip=False,\n",
        "                            )\n",
        "augment.fit(x_train)"
      ],
      "execution_count": null,
      "outputs": []
    },
    {
      "cell_type": "code",
      "metadata": {
        "execution": {
          "iopub.execute_input": "2021-10-23T06:23:27.075442Z",
          "iopub.status.busy": "2021-10-23T06:23:27.074821Z",
          "iopub.status.idle": "2021-10-23T06:23:27.081645Z",
          "shell.execute_reply": "2021-10-23T06:23:27.080884Z",
          "shell.execute_reply.started": "2021-10-23T06:23:27.075393Z"
        },
        "trusted": true,
        "id": "QTdkkbCRBDJg"
      },
      "source": [
        "from tensorflow.keras.optimizers import Adam\n",
        "from tensorflow.keras.layers import *\n",
        "from tensorflow.keras.models import Sequential\n",
        "from tensorflow.keras.callbacks import ModelCheckpoint\n",
        "from tensorflow.keras.regularizers import l2"
      ],
      "execution_count": null,
      "outputs": []
    },
    {
      "cell_type": "code",
      "metadata": {
        "execution": {
          "iopub.execute_input": "2021-10-23T06:23:27.08379Z",
          "iopub.status.busy": "2021-10-23T06:23:27.083132Z",
          "iopub.status.idle": "2021-10-23T06:23:27.464621Z",
          "shell.execute_reply": "2021-10-23T06:23:27.463626Z",
          "shell.execute_reply.started": "2021-10-23T06:23:27.083699Z"
        },
        "trusted": true,
        "id": "63xI9GNeBDJg"
      },
      "source": [
        "\n",
        "model = Sequential()\n",
        "\n",
        "\n",
        "model.add(Conv2D(filters=16, kernel_size=(3,3),input_shape=(224,224,3), activation='relu',kernel_regularizer=l2(0.01)))\n",
        "model.add(MaxPool2D(pool_size=(2, 2)))\n",
        "\n",
        "model.add(Conv2D(filters=32, kernel_size=(3,3),input_shape=(224,224,3), activation='relu',kernel_regularizer=l2(0.01)))\n",
        "model.add(MaxPool2D(pool_size=(2, 2)))\n",
        "\n",
        "model.add(Conv2D(filters=64, kernel_size=(3,3),input_shape=(224,224,3), activation='relu',kernel_regularizer=l2(0.01)))\n",
        "model.add(MaxPool2D(pool_size=(2, 2)))\n",
        "\n",
        "model.add(Conv2D(filters=64, kernel_size=(3,3),input_shape=(224,224,3), activation='relu',kernel_regularizer=l2(0.01)))\n",
        "model.add(MaxPool2D(pool_size=(2, 2)))\n",
        "\n",
        "\n",
        "model.add(Flatten())\n",
        "\n",
        "model.add(Dense(224))\n",
        "model.add(Activation('relu'))\n",
        "\n",
        "model.add(Dropout(0.5))\n",
        "\n",
        "model.add(Dense(2))\n",
        "model.add(Activation('sigmoid'))\n",
        "\n",
        "model.compile(loss='binary_crossentropy',\n",
        "              optimizer='adam',\n",
        "              metrics=['accuracy'])\n",
        "\n",
        "model.summary()\n"
      ],
      "execution_count": null,
      "outputs": []
    },
    {
      "cell_type": "code",
      "metadata": {
        "execution": {
          "iopub.execute_input": "2021-10-23T06:23:27.466454Z",
          "iopub.status.busy": "2021-10-23T06:23:27.46613Z",
          "iopub.status.idle": "2021-10-23T06:23:27.471533Z",
          "shell.execute_reply": "2021-10-23T06:23:27.470447Z",
          "shell.execute_reply.started": "2021-10-23T06:23:27.466422Z"
        },
        "trusted": true,
        "id": "dOOp120aBDJh"
      },
      "source": [
        "filepath=\"covid_detection.hdf5\"\n",
        "checkpoint = ModelCheckpoint(filepath, monitor='val_accuracy', verbose=2, save_best_only=True, mode='max',patience=3)\n",
        "callbacks_list = [checkpoint]"
      ],
      "execution_count": null,
      "outputs": []
    },
    {
      "cell_type": "code",
      "metadata": {
        "execution": {
          "iopub.execute_input": "2021-10-23T06:23:27.473454Z",
          "iopub.status.busy": "2021-10-23T06:23:27.473019Z",
          "iopub.status.idle": "2021-10-23T06:24:43.739069Z",
          "shell.execute_reply": "2021-10-23T06:24:43.738267Z",
          "shell.execute_reply.started": "2021-10-23T06:23:27.473408Z"
        },
        "trusted": true,
        "id": "dChvftN6BDJh"
      },
      "source": [
        "hist = model.fit(x_train,y_train,\n",
        "                    batch_size=64,\n",
        "                    epochs = 20,\n",
        "                    validation_split = 0.10,callbacks=callbacks_list)\n"
      ],
      "execution_count": null,
      "outputs": []
    },
    {
      "cell_type": "code",
      "metadata": {
        "execution": {
          "iopub.execute_input": "2021-10-23T06:24:43.742069Z",
          "iopub.status.busy": "2021-10-23T06:24:43.741658Z",
          "iopub.status.idle": "2021-10-23T06:24:44.164339Z",
          "shell.execute_reply": "2021-10-23T06:24:44.163164Z",
          "shell.execute_reply.started": "2021-10-23T06:24:43.742026Z"
        },
        "trusted": true,
        "id": "vsOH4QlBBDJh"
      },
      "source": [
        "plt.figure(0)\n",
        "\n",
        "plt.plot(hist.history['accuracy'], label='training accuracy')\n",
        "plt.plot(hist.history['val_accuracy'], label='val accuracy')\n",
        "plt.title('Accuracy')\n",
        "plt.xlabel('epochs')\n",
        "plt.ylabel('accuracy')\n",
        "plt.legend()\n",
        "\n",
        "plt.figure(1)\n",
        "plt.plot(hist.history['loss'], label='training loss')\n",
        "plt.plot(hist.history['val_loss'], label='val loss')\n",
        "plt.title('Loss')\n",
        "plt.xlabel('epochs')\n",
        "plt.ylabel('loss')\n",
        "plt.legend()"
      ],
      "execution_count": null,
      "outputs": []
    },
    {
      "cell_type": "code",
      "metadata": {
        "execution": {
          "iopub.execute_input": "2021-10-23T06:24:44.166024Z",
          "iopub.status.busy": "2021-10-23T06:24:44.165733Z",
          "iopub.status.idle": "2021-10-23T06:24:45.790298Z",
          "shell.execute_reply": "2021-10-23T06:24:45.789165Z",
          "shell.execute_reply.started": "2021-10-23T06:24:44.165995Z"
        },
        "trusted": true,
        "id": "62HTtp3fBDJi"
      },
      "source": [
        "\n",
        "test_images = \"../input/covid19-xray-dataset-train-test-sets/xray_dataset_covid19/test\"\n",
        "\n",
        "test_image_data = []\n",
        "test_labels = []\n",
        "\n",
        "test_folders = os.listdir(test_images)\n",
        "print(test_folders)\n",
        "\n",
        "label_dict = {\n",
        "    'PNEUMONIA':0,\n",
        "    'NORMAL':1\n",
        "}\n",
        "\n",
        "from keras.preprocessing import image\n",
        "\n",
        "for ix in test_folders:\n",
        "    path = os.path.join(test_images,ix)\n",
        "    for im in os.listdir(path):\n",
        "        img = image.load_img(os.path.join(path,im),target_size = ((224,224)))\n",
        "        img_array = image.img_to_array(img)\n",
        "        test_image_data.append(img_array)\n",
        "        test_labels.append(label_dict[ix])\n",
        "        \n",
        "\n",
        "combined = list(zip(test_image_data,test_labels))\n",
        "test_image_data[:],test_labels[:] = zip(*combined)\n",
        "\n",
        "x_test = np.array(test_image_data)\n",
        "y_test = np.array(test_labels)\n",
        "\n",
        "from keras.utils import np_utils\n",
        "\n",
        "y_test = np_utils.to_categorical(y_test)\n",
        "print(x_test.shape,y_test.shape)"
      ],
      "execution_count": null,
      "outputs": []
    },
    {
      "cell_type": "code",
      "metadata": {
        "execution": {
          "iopub.execute_input": "2021-10-23T06:24:45.791926Z",
          "iopub.status.busy": "2021-10-23T06:24:45.791612Z",
          "iopub.status.idle": "2021-10-23T06:24:46.16685Z",
          "shell.execute_reply": "2021-10-23T06:24:46.165672Z",
          "shell.execute_reply.started": "2021-10-23T06:24:45.791897Z"
        },
        "trusted": true,
        "id": "YaspASHjBDJi"
      },
      "source": [
        "model.evaluate(x_test,y_test)"
      ],
      "execution_count": null,
      "outputs": []
    },
    {
      "cell_type": "code",
      "metadata": {
        "execution": {
          "iopub.execute_input": "2021-10-23T06:24:46.169038Z",
          "iopub.status.busy": "2021-10-23T06:24:46.168614Z",
          "iopub.status.idle": "2021-10-23T06:24:46.637459Z",
          "shell.execute_reply": "2021-10-23T06:24:46.636335Z",
          "shell.execute_reply.started": "2021-10-23T06:24:46.168992Z"
        },
        "trusted": true,
        "id": "92vBXSMWBDJi"
      },
      "source": [
        "predictions = model.predict(x_test, batch_size = 32)\n",
        "pred = np.argmax(predictions, axis=1)"
      ],
      "execution_count": null,
      "outputs": []
    },
    {
      "cell_type": "code",
      "metadata": {
        "execution": {
          "iopub.execute_input": "2021-10-23T06:24:46.639471Z",
          "iopub.status.busy": "2021-10-23T06:24:46.639092Z",
          "iopub.status.idle": "2021-10-23T06:24:46.650764Z",
          "shell.execute_reply": "2021-10-23T06:24:46.649757Z",
          "shell.execute_reply.started": "2021-10-23T06:24:46.639435Z"
        },
        "trusted": true,
        "id": "iMSMZEsvBDJi"
      },
      "source": [
        "print(classification_report(test_labels, pred))"
      ],
      "execution_count": null,
      "outputs": []
    },
    {
      "cell_type": "code",
      "metadata": {
        "execution": {
          "iopub.execute_input": "2021-10-23T06:24:46.652922Z",
          "iopub.status.busy": "2021-10-23T06:24:46.652257Z",
          "iopub.status.idle": "2021-10-23T06:24:47.438994Z",
          "shell.execute_reply": "2021-10-23T06:24:47.437958Z",
          "shell.execute_reply.started": "2021-10-23T06:24:46.652872Z"
        },
        "trusted": true,
        "id": "qqx4WAm8BDJj"
      },
      "source": [
        "from sklearn.metrics import confusion_matrix\n",
        "import seaborn as sns\n",
        "\n",
        "Y_pred = model.predict(x_test)\n",
        "Y_pred_classes = np.argmax(Y_pred,axis = 1) \n",
        "Y_true = np.argmax(y_test,axis = 1) \n",
        "\n",
        "confusion_mtx = confusion_matrix(Y_true, Y_pred_classes) \n",
        "\n",
        "f,ax = plt.subplots(figsize=(8, 8))\n",
        "sns.heatmap(confusion_mtx, annot=True, linewidths=0.01,cmap=\"Greens\",linecolor=\"gray\", fmt= '.1f',ax=ax)\n",
        "plt.xlabel(\"Predicted Label\")\n",
        "plt.ylabel(\"True Label\")\n",
        "plt.title(\"Confusion Matrix\")\n",
        "plt.show()"
      ],
      "execution_count": null,
      "outputs": []
    },
    {
      "cell_type": "code",
      "metadata": {
        "execution": {
          "iopub.execute_input": "2021-10-23T06:24:47.440572Z",
          "iopub.status.busy": "2021-10-23T06:24:47.440255Z",
          "iopub.status.idle": "2021-10-23T06:24:47.445084Z",
          "shell.execute_reply": "2021-10-23T06:24:47.444172Z",
          "shell.execute_reply.started": "2021-10-23T06:24:47.440542Z"
        },
        "trusted": true,
        "id": "AuTENVNOBDJj"
      },
      "source": [
        "def img_plot(arr,index=0):\n",
        "    plt.title('Test Image')\n",
        "    plt.imshow(arr[index])"
      ],
      "execution_count": null,
      "outputs": []
    },
    {
      "cell_type": "code",
      "metadata": {
        "execution": {
          "iopub.execute_input": "2021-10-23T06:26:01.957392Z",
          "iopub.status.busy": "2021-10-23T06:26:01.957011Z",
          "iopub.status.idle": "2021-10-23T06:26:02.140179Z",
          "shell.execute_reply": "2021-10-23T06:26:02.13897Z",
          "shell.execute_reply.started": "2021-10-23T06:26:01.957361Z"
        },
        "trusted": true,
        "id": "uHLp117dBDJj"
      },
      "source": [
        "index1 = 30\n",
        "\n",
        "img_plot(x_test, index1)"
      ],
      "execution_count": null,
      "outputs": []
    },
    {
      "cell_type": "code",
      "metadata": {
        "execution": {
          "iopub.execute_input": "2021-10-23T06:26:03.014067Z",
          "iopub.status.busy": "2021-10-23T06:26:03.013697Z",
          "iopub.status.idle": "2021-10-23T06:26:03.018619Z",
          "shell.execute_reply": "2021-10-23T06:26:03.017885Z",
          "shell.execute_reply.started": "2021-10-23T06:26:03.014033Z"
        },
        "trusted": true,
        "id": "3W9J-JOfBDJj"
      },
      "source": [
        "input1 = x_test[index1:index1+1]\n",
        "print('Input Index =',index1)"
      ],
      "execution_count": null,
      "outputs": []
    },
    {
      "cell_type": "code",
      "metadata": {
        "execution": {
          "iopub.execute_input": "2021-10-23T06:26:03.800112Z",
          "iopub.status.busy": "2021-10-23T06:26:03.799529Z",
          "iopub.status.idle": "2021-10-23T06:26:03.854251Z",
          "shell.execute_reply": "2021-10-23T06:26:03.853386Z",
          "shell.execute_reply.started": "2021-10-23T06:26:03.800057Z"
        },
        "trusted": true,
        "id": "laJGx_2oBDJj"
      },
      "source": [
        "cnn_pred1 = model.predict(input1)[0].argmax()\n",
        "label1 = y_test[index1].argmax()"
      ],
      "execution_count": null,
      "outputs": []
    },
    {
      "cell_type": "code",
      "metadata": {
        "execution": {
          "iopub.execute_input": "2021-10-23T06:26:04.562439Z",
          "iopub.status.busy": "2021-10-23T06:26:04.56178Z",
          "iopub.status.idle": "2021-10-23T06:26:04.567791Z",
          "shell.execute_reply": "2021-10-23T06:26:04.566947Z",
          "shell.execute_reply.started": "2021-10-23T06:26:04.562402Z"
        },
        "trusted": true,
        "id": "JduwAuBHBDJk"
      },
      "source": [
        "print('Predicted Value using  cnn model',cnn_pred1)\n",
        "print(\"\\nTrue Value\",label1)"
      ],
      "execution_count": null,
      "outputs": []
    },
    {
      "cell_type": "code",
      "metadata": {
        "id": "NNu6kjp4BDJk"
      },
      "source": [
        ""
      ],
      "execution_count": null,
      "outputs": []
    }
  ]
}