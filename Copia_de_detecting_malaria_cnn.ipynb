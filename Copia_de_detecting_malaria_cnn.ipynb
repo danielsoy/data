{
  "nbformat": 4,
  "nbformat_minor": 0,
  "metadata": {
    "kernelspec": {
      "language": "python",
      "display_name": "Python 3",
      "name": "python3"
    },
    "language_info": {
      "name": "python",
      "version": "3.6.6",
      "mimetype": "text/x-python",
      "codemirror_mode": {
        "name": "ipython",
        "version": 3
      },
      "pygments_lexer": "ipython3",
      "nbconvert_exporter": "python",
      "file_extension": ".py"
    },
    "colab": {
      "name": "Copia de detecting-malaria-cnn.ipynb",
      "provenance": [],
      "include_colab_link": true
    }
  },
  "cells": [
    {
      "cell_type": "markdown",
      "metadata": {
        "id": "view-in-github",
        "colab_type": "text"
      },
      "source": [
        "<a href=\"https://colab.research.google.com/github/danielsoy/data/blob/main/Copia_de_detecting_malaria_cnn.ipynb\" target=\"_parent\"><img src=\"https://colab.research.google.com/assets/colab-badge.svg\" alt=\"Open In Colab\"/></a>"
      ]
    },
    {
      "cell_type": "markdown",
      "metadata": {
        "_uuid": "37aae2f387f795896f3502e83625538d6223dfa2",
        "id": "2IHYG9W-oi2y"
      },
      "source": [
        "<center><h1>Detecting Malaria cells using Convolutional Neural Network</h1></center>\n",
        "![ml](https://www.h-its.org/wp-content/uploads/2018/07/Malaria_Press_image_1.png)    \n",
        "    \n",
        "   ### Steps to solve the problem :- \n",
        "   1. Importing Libraries.\n",
        "   2. Loading the data.\n",
        "   3. Data preprocessing.\n",
        "   4. Data augmentation.\n",
        "   5. Ploting images and its labels to understand how does an infected cell and uninfected cell looks like.\n",
        "   6. Spliting data in Train , Evaluation and Test set.\n",
        "   7. Creating a Convolution Neural Network function.\n",
        "   8. Wrapping it with Tensorflow Estimator function.\n",
        "   9. Training the data on Train data.\n",
        "   10. Evaluating on evaluation data.\n",
        "   11. Predicting on Test data\n",
        "   12. Ploting the predicted image and its respective True value and predicted value.\n",
        "   \n",
        "   ### Note :\n",
        "*   This is my second image classification task.\n",
        "*    Please feel free to suggest me what should i have done more to improve the model to perform more better.\n",
        "*    Please upvote this kernel if you liked my work , Thank you."
      ]
    },
    {
      "cell_type": "code",
      "metadata": {
        "_uuid": "8f2839f25d086af736a60e9eeb907d3b93b6e0e5",
        "_cell_guid": "b1076dfc-b9ad-4769-8c92-a6c4dae69d19",
        "execution": {
          "iopub.status.busy": "2021-11-21T03:32:09.043847Z",
          "iopub.execute_input": "2021-11-21T03:32:09.044331Z",
          "iopub.status.idle": "2021-11-21T03:32:09.054768Z",
          "shell.execute_reply.started": "2021-11-21T03:32:09.044259Z",
          "shell.execute_reply": "2021-11-21T03:32:09.053798Z"
        },
        "trusted": true,
        "id": "l2XGaOsyoi21"
      },
      "source": [
        "from __future__ import absolute_import, division, print_function\n",
        "import numpy as np # linear algebra\n",
        "import pandas as pd # data processing, CSV file I/O (e.g. pd.read_csv)\n",
        "import tensorflow as tf\n",
        "import cv2\n",
        "import matplotlib.pyplot as plt\n",
        "import seaborn as sns\n",
        "from PIL import Image\n",
        "import os\n",
        "print(os.listdir(\"../input/cell_images/cell_images\"))"
      ],
      "execution_count": null,
      "outputs": []
    },
    {
      "cell_type": "code",
      "metadata": {
        "_cell_guid": "79c7e3d0-c299-4dcb-8224-4455121ee9b0",
        "_uuid": "d629ff2d2480ee46fbb7e2d37f6b5fab8052498a",
        "execution": {
          "iopub.status.busy": "2021-11-21T03:32:09.056306Z",
          "iopub.execute_input": "2021-11-21T03:32:09.056865Z",
          "iopub.status.idle": "2021-11-21T03:32:09.082867Z",
          "shell.execute_reply.started": "2021-11-21T03:32:09.056807Z",
          "shell.execute_reply": "2021-11-21T03:32:09.082082Z"
        },
        "trusted": true,
        "id": "r8ZcEwEDoi22"
      },
      "source": [
        "infected = os.listdir('../input/cell_images/cell_images/Parasitized/') \n",
        "uninfected = os.listdir('../input/cell_images/cell_images/Uninfected/')"
      ],
      "execution_count": null,
      "outputs": []
    },
    {
      "cell_type": "code",
      "metadata": {
        "_uuid": "6c62996edd0483c29a8e5a8b8ec5b772bb5a0f11",
        "execution": {
          "iopub.status.busy": "2021-11-21T03:32:09.083916Z",
          "iopub.execute_input": "2021-11-21T03:32:09.084282Z",
          "iopub.status.idle": "2021-11-21T03:36:24.134375Z",
          "shell.execute_reply.started": "2021-11-21T03:32:09.084244Z",
          "shell.execute_reply": "2021-11-21T03:36:24.133307Z"
        },
        "trusted": true,
        "id": "YIMV-Yftoi23"
      },
      "source": [
        "data = []\n",
        "labels = []\n",
        "\n",
        "for i in infected:\n",
        "    try:\n",
        "    \n",
        "        image = cv2.imread(\"../input/cell_images/cell_images/Parasitized/\"+i)\n",
        "        image_array = Image.fromarray(image , 'RGB')\n",
        "        resize_img = image_array.resize((50 , 50))\n",
        "        rotated45 = resize_img.rotate(45)\n",
        "        rotated75 = resize_img.rotate(75)\n",
        "        blur = cv2.blur(np.array(resize_img) ,(10,10))\n",
        "        data.append(np.array(resize_img))\n",
        "        data.append(np.array(rotated45))\n",
        "        data.append(np.array(rotated75))\n",
        "        data.append(np.array(blur))\n",
        "        labels.append(1)\n",
        "        labels.append(1)\n",
        "        labels.append(1)\n",
        "        labels.append(1)\n",
        "        \n",
        "    except AttributeError:\n",
        "        print('')\n",
        "    \n",
        "for u in uninfected:\n",
        "    try:\n",
        "        \n",
        "        image = cv2.imread(\"../input/cell_images/cell_images/Uninfected/\"+u)\n",
        "        image_array = Image.fromarray(image , 'RGB')\n",
        "        resize_img = image_array.resize((50 , 50))\n",
        "        rotated45 = resize_img.rotate(45)\n",
        "        rotated75 = resize_img.rotate(75)\n",
        "        data.append(np.array(resize_img))\n",
        "        data.append(np.array(rotated45))\n",
        "        data.append(np.array(rotated75))\n",
        "        labels.append(0)\n",
        "        labels.append(0)\n",
        "        labels.append(0)\n",
        "        \n",
        "    except AttributeError:\n",
        "        print('')"
      ],
      "execution_count": null,
      "outputs": []
    },
    {
      "cell_type": "code",
      "metadata": {
        "_uuid": "5234f0d7d29b7ea0adc022a9964590b0610032f3",
        "execution": {
          "iopub.status.busy": "2021-11-21T03:36:24.135953Z",
          "iopub.execute_input": "2021-11-21T03:36:24.136228Z",
          "iopub.status.idle": "2021-11-21T03:36:25.530816Z",
          "shell.execute_reply.started": "2021-11-21T03:36:24.136175Z",
          "shell.execute_reply": "2021-11-21T03:36:25.529906Z"
        },
        "trusted": true,
        "id": "WVeaDfHPoi23"
      },
      "source": [
        "cells = np.array(data)\n",
        "labels = np.array(labels)\n",
        "\n",
        "np.save('Cells' , cells)\n",
        "np.save('Labels' , labels)"
      ],
      "execution_count": null,
      "outputs": []
    },
    {
      "cell_type": "code",
      "metadata": {
        "_uuid": "53020513151df530a51081741617687a8a789b30",
        "execution": {
          "iopub.status.busy": "2021-11-21T03:36:25.532056Z",
          "iopub.execute_input": "2021-11-21T03:36:25.532315Z",
          "iopub.status.idle": "2021-11-21T03:36:25.537420Z",
          "shell.execute_reply.started": "2021-11-21T03:36:25.532266Z",
          "shell.execute_reply": "2021-11-21T03:36:25.536237Z"
        },
        "trusted": true,
        "id": "wn-vAyoKoi24"
      },
      "source": [
        "print('Cells : {} | labels : {}'.format(cells.shape , labels.shape))"
      ],
      "execution_count": null,
      "outputs": []
    },
    {
      "cell_type": "code",
      "metadata": {
        "_uuid": "e4580e19f93d4427d7a7f88e739c1ef77d216847",
        "execution": {
          "iopub.status.busy": "2021-11-21T03:36:25.538807Z",
          "iopub.execute_input": "2021-11-21T03:36:25.539071Z",
          "iopub.status.idle": "2021-11-21T03:36:27.442050Z",
          "shell.execute_reply.started": "2021-11-21T03:36:25.539023Z",
          "shell.execute_reply": "2021-11-21T03:36:27.441232Z"
        },
        "trusted": true,
        "id": "RfnJjLX3oi24"
      },
      "source": [
        "plt.figure(1 , figsize = (15 , 9))\n",
        "n = 0 \n",
        "for i in range(49):\n",
        "    n += 1 \n",
        "    r = np.random.randint(0 , cells.shape[0] , 1)\n",
        "    plt.subplot(7 , 7 , n)\n",
        "    plt.subplots_adjust(hspace = 0.5 , wspace = 0.5)\n",
        "    plt.imshow(cells[r[0]])\n",
        "    plt.title('{} : {}'.format('Infected' if labels[r[0]] == 1 else 'Unifected' ,\n",
        "                               labels[r[0]]) )\n",
        "    plt.xticks([]) , plt.yticks([])\n",
        "    \n",
        "plt.show()"
      ],
      "execution_count": null,
      "outputs": []
    },
    {
      "cell_type": "code",
      "metadata": {
        "_uuid": "2c3d17aa73556bb631c0f51043da62e0e74f7f2f",
        "execution": {
          "iopub.status.busy": "2021-11-21T03:36:27.443248Z",
          "iopub.execute_input": "2021-11-21T03:36:27.443616Z",
          "iopub.status.idle": "2021-11-21T03:36:27.655283Z",
          "shell.execute_reply.started": "2021-11-21T03:36:27.443560Z",
          "shell.execute_reply": "2021-11-21T03:36:27.654558Z"
        },
        "trusted": true,
        "id": "6oqMRBcRoi25"
      },
      "source": [
        "plt.figure(1, figsize = (15 , 7))\n",
        "plt.subplot(1 , 2 , 1)\n",
        "plt.imshow(cells[0])\n",
        "plt.title('Infected Cell')\n",
        "plt.xticks([]) , plt.yticks([])\n",
        "\n",
        "plt.subplot(1 , 2 , 2)\n",
        "plt.imshow(cells[60000])\n",
        "plt.title('Uninfected Cell')\n",
        "plt.xticks([]) , plt.yticks([])\n",
        "\n",
        "plt.show()"
      ],
      "execution_count": null,
      "outputs": []
    },
    {
      "cell_type": "code",
      "metadata": {
        "_uuid": "2c607eb7ac48a824e67cb3d9c0029c04712b8087",
        "execution": {
          "iopub.status.busy": "2021-11-21T03:36:27.656636Z",
          "iopub.execute_input": "2021-11-21T03:36:27.657120Z",
          "iopub.status.idle": "2021-11-21T03:36:28.296956Z",
          "shell.execute_reply.started": "2021-11-21T03:36:27.657066Z",
          "shell.execute_reply": "2021-11-21T03:36:28.295929Z"
        },
        "trusted": true,
        "id": "KPUyjz0Xoi26"
      },
      "source": [
        "n = np.arange(cells.shape[0])\n",
        "np.random.shuffle(n)\n",
        "cells = cells[n]\n",
        "labels = labels[n]"
      ],
      "execution_count": null,
      "outputs": []
    },
    {
      "cell_type": "code",
      "metadata": {
        "_uuid": "ffa4c1094d41db8ec76f69d3cd547bc7e355b193",
        "execution": {
          "iopub.status.busy": "2021-11-21T03:36:28.298631Z",
          "iopub.execute_input": "2021-11-21T03:36:28.299161Z",
          "iopub.status.idle": "2021-11-21T03:36:32.490149Z",
          "shell.execute_reply.started": "2021-11-21T03:36:28.298951Z",
          "shell.execute_reply": "2021-11-21T03:36:32.489199Z"
        },
        "trusted": true,
        "id": "SrakF7Ckoi27"
      },
      "source": [
        "cells = cells.astype(np.float32)\n",
        "labels = labels.astype(np.int32)\n",
        "cells = cells/255"
      ],
      "execution_count": null,
      "outputs": []
    },
    {
      "cell_type": "code",
      "metadata": {
        "_uuid": "251dcd279dbb17e3b53133843226e911727d5d1e",
        "execution": {
          "iopub.status.busy": "2021-11-21T03:36:32.491891Z",
          "iopub.execute_input": "2021-11-21T03:36:32.492409Z",
          "iopub.status.idle": "2021-11-21T03:36:39.236487Z",
          "shell.execute_reply.started": "2021-11-21T03:36:32.492197Z",
          "shell.execute_reply": "2021-11-21T03:36:39.234168Z"
        },
        "trusted": true,
        "id": "msbRW1v-oi27"
      },
      "source": [
        "from sklearn.model_selection import train_test_split\n",
        "\n",
        "train_x , x , train_y , y = train_test_split(cells , labels , \n",
        "                                            test_size = 0.2 ,\n",
        "                                            random_state = 111)\n",
        "\n",
        "eval_x , test_x , eval_y , test_y = train_test_split(x , y , \n",
        "                                                    test_size = 0.5 , \n",
        "                                                    random_state = 111)"
      ],
      "execution_count": null,
      "outputs": []
    },
    {
      "cell_type": "code",
      "metadata": {
        "_uuid": "ca209c38627bb47450632dd707aab107f82de104",
        "execution": {
          "iopub.status.busy": "2021-11-21T03:36:39.239003Z",
          "iopub.execute_input": "2021-11-21T03:36:39.239284Z",
          "iopub.status.idle": "2021-11-21T03:36:39.805006Z",
          "shell.execute_reply.started": "2021-11-21T03:36:39.239237Z",
          "shell.execute_reply": "2021-11-21T03:36:39.803881Z"
        },
        "trusted": true,
        "id": "K3LvkcSaoi28"
      },
      "source": [
        "plt.figure(1 , figsize = (15 ,5))\n",
        "n = 0 \n",
        "for z , j in zip([train_y , eval_y , test_y] , ['train labels','eval labels','test labels']):\n",
        "    n += 1\n",
        "    plt.subplot(1 , 3  , n)\n",
        "    sns.countplot(x = z )\n",
        "    plt.title(j)\n",
        "plt.show()"
      ],
      "execution_count": null,
      "outputs": []
    },
    {
      "cell_type": "code",
      "metadata": {
        "_uuid": "b1406e372de9104f5ba7c9e5f318073c37670db2",
        "execution": {
          "iopub.status.busy": "2021-11-21T03:36:39.807058Z",
          "iopub.execute_input": "2021-11-21T03:36:39.807541Z",
          "iopub.status.idle": "2021-11-21T03:36:40.131540Z",
          "shell.execute_reply.started": "2021-11-21T03:36:39.807312Z",
          "shell.execute_reply": "2021-11-21T03:36:40.130501Z"
        },
        "trusted": true,
        "id": "D1KtEEujoi28"
      },
      "source": [
        "print('train data shape {} ,eval data shape {} , test data shape {}'.format(train_x.shape,\n",
        "                                                                           eval_x.shape ,\n",
        "                                                                           test_x.shape))"
      ],
      "execution_count": null,
      "outputs": []
    },
    {
      "cell_type": "code",
      "metadata": {
        "_uuid": "176aba5ea61ebf8d1ef170401c07b22f19f620a6",
        "execution": {
          "iopub.status.busy": "2021-11-21T03:36:40.134359Z",
          "iopub.execute_input": "2021-11-21T03:36:40.135145Z",
          "iopub.status.idle": "2021-11-21T03:36:40.160885Z",
          "shell.execute_reply.started": "2021-11-21T03:36:40.135077Z",
          "shell.execute_reply": "2021-11-21T03:36:40.159892Z"
        },
        "trusted": true,
        "id": "YKlnUt3loi29"
      },
      "source": [
        "tf.reset_default_graph()\n",
        "def cnn_model_fn(features , labels , mode):\n",
        "    input_layers = tf.reshape(features['x'] , [-1 , 50 , 50 ,3])    \n",
        "    conv1 = tf.layers.conv2d(\n",
        "        inputs = input_layers , \n",
        "        filters = 50 , \n",
        "        kernel_size = [7 , 7],\n",
        "        padding = 'same',\n",
        "        activation = tf.nn.relu\n",
        "        ) \n",
        "    \n",
        "    \n",
        "    conv2 = tf.layers.conv2d(\n",
        "        inputs = conv1, \n",
        "        filters = 90,\n",
        "        kernel_size = [3 , 3],\n",
        "        padding = 'valid',\n",
        "        activation = tf.nn.relu\n",
        "        )\n",
        "\n",
        "        \n",
        "    conv3 = tf.layers.conv2d(\n",
        "        inputs = conv2 ,\n",
        "        filters = 10,\n",
        "        kernel_size = [5 , 5],\n",
        "        padding = 'same', \n",
        "        activation = tf.nn.relu\n",
        "        )\n",
        "    \n",
        "    pool1 = tf.layers.max_pooling2d(inputs = conv3 , pool_size = [2 , 2] ,\n",
        "                                    strides = 2 )\n",
        "    conv4 = tf.layers.conv2d(\n",
        "        inputs = pool1 ,\n",
        "        filters = 5,\n",
        "        kernel_size = [3 , 3],\n",
        "        padding = 'same', \n",
        "        activation = tf.nn.relu\n",
        "        )\n",
        "\n",
        "    pool2 = tf.layers.max_pooling2d(inputs = conv4 , pool_size = [2 , 2] ,\n",
        "                                    strides = 2 , padding = 'same')\n",
        "    \n",
        "    pool2_flatten = tf.layers.flatten(pool2)\n",
        "    fc1 = tf.layers.dense(\n",
        "        inputs = pool2_flatten,\n",
        "        units = 2000,\n",
        "        activation = tf.nn.relu\n",
        "        )\n",
        "    fc2 = tf.layers.dense(\n",
        "        inputs = fc1,\n",
        "        units = 1000,\n",
        "        activation = tf.nn.relu\n",
        "        )\n",
        "    fc3 = tf.layers.dense(\n",
        "        inputs = fc2 , \n",
        "        units = 500 ,\n",
        "        activation = tf.nn.relu\n",
        "        )\n",
        "    logits = tf.layers.dense(\n",
        "        inputs = fc3 ,\n",
        "        units = 2\n",
        "        )\n",
        "    \n",
        "    predictions = {\n",
        "        'classes': tf.argmax(input = logits , axis = 1),\n",
        "        'probabilities': tf.nn.softmax(logits , name = 'softmax_tensor')\n",
        "    }\n",
        "    \n",
        "    if mode == tf.estimator.ModeKeys.PREDICT:\n",
        "        return tf.estimator.EstimatorSpec(mode = mode , \n",
        "                                          predictions = predictions)\n",
        "    \n",
        "    loss = tf.losses.sparse_softmax_cross_entropy(labels = labels , \n",
        "                                                 logits = logits)\n",
        "    \n",
        "    if mode == tf.estimator.ModeKeys.TRAIN:\n",
        "        optimizer = tf.train.GradientDescentOptimizer(learning_rate = 0.001)\n",
        "        train_op = optimizer.minimize(loss = loss , \n",
        "                                      global_step = tf.train.get_global_step())\n",
        "        \n",
        "        return tf.estimator.EstimatorSpec(mode = mode , \n",
        "                                            loss = loss , \n",
        "                                            train_op = train_op \n",
        "                                           )\n",
        "    eval_metric_op = {'accuracy' : tf.metrics.accuracy(labels = labels ,\n",
        "                                         predictions =  predictions['classes'])}\n",
        "    \n",
        "    return tf.estimator.EstimatorSpec(mode = mode , \n",
        "                                      loss = loss , \n",
        "                                      eval_metric_ops = eval_metric_op)    "
      ],
      "execution_count": null,
      "outputs": []
    },
    {
      "cell_type": "code",
      "metadata": {
        "_uuid": "fe31b7a2946fd74ebd6e6ffc18585fa74e6e47e6",
        "execution": {
          "iopub.status.busy": "2021-11-21T03:36:40.163182Z",
          "iopub.execute_input": "2021-11-21T03:36:40.163787Z",
          "iopub.status.idle": "2021-11-21T03:36:40.191312Z",
          "shell.execute_reply.started": "2021-11-21T03:36:40.163718Z",
          "shell.execute_reply": "2021-11-21T03:36:40.189470Z"
        },
        "trusted": true,
        "id": "XDoj1nxHoi29"
      },
      "source": [
        "malaria_detector = tf.estimator.Estimator(model_fn = cnn_model_fn , \n",
        "                                         model_dir = '/tmp/modelchkpt')"
      ],
      "execution_count": null,
      "outputs": []
    },
    {
      "cell_type": "code",
      "metadata": {
        "_uuid": "1c18c3afc63c767d095fda7064ec677e30010563",
        "execution": {
          "iopub.status.busy": "2021-11-21T03:36:40.192796Z",
          "iopub.execute_input": "2021-11-21T03:36:40.195562Z",
          "iopub.status.idle": "2021-11-21T03:36:40.200686Z",
          "shell.execute_reply.started": "2021-11-21T03:36:40.195502Z",
          "shell.execute_reply": "2021-11-21T03:36:40.199707Z"
        },
        "trusted": true,
        "id": "duvpYWyKoi29"
      },
      "source": [
        "tensors_to_log = {'probabilities':'softmax_tensor'}\n",
        "logging_hook = tf.train.LoggingTensorHook(\n",
        "    tensors = tensors_to_log , every_n_iter = 50 \n",
        "    )"
      ],
      "execution_count": null,
      "outputs": []
    },
    {
      "cell_type": "code",
      "metadata": {
        "scrolled": true,
        "_uuid": "310c9c6e0a2920718c5d732ad74effcdc6e09f3a",
        "_kg_hide-output": true,
        "execution": {
          "iopub.status.busy": "2021-11-21T03:36:40.202890Z",
          "iopub.execute_input": "2021-11-21T03:36:40.203416Z",
          "iopub.status.idle": "2021-11-21T03:36:48.927695Z",
          "shell.execute_reply.started": "2021-11-21T03:36:40.203172Z",
          "shell.execute_reply": "2021-11-21T03:36:48.926933Z"
        },
        "trusted": true,
        "id": "wxYI-TkVoi2-"
      },
      "source": [
        "train_input_fn = tf.estimator.inputs.numpy_input_fn(\n",
        "    x = {'x': train_x},\n",
        "    y = train_y,\n",
        "    batch_size = 100 , \n",
        "    num_epochs = None , \n",
        "    shuffle = True\n",
        "    )\n",
        "malaria_detector.train(input_fn = train_input_fn , steps = 1 , hooks = [logging_hook])"
      ],
      "execution_count": null,
      "outputs": []
    },
    {
      "cell_type": "code",
      "metadata": {
        "_uuid": "170414463295476d4428dc4a2d89168b0915963e",
        "scrolled": true,
        "execution": {
          "iopub.status.busy": "2021-11-21T03:36:48.929400Z",
          "iopub.execute_input": "2021-11-21T03:36:48.929684Z"
        },
        "trusted": true,
        "id": "MM0Vnxr4oi2-"
      },
      "source": [
        "malaria_detector.train(input_fn = train_input_fn , steps = 10000)"
      ],
      "execution_count": null,
      "outputs": []
    },
    {
      "cell_type": "code",
      "metadata": {
        "_uuid": "06c4f121e1c6b9a3a25800cb1d88a1ae0a3428b4",
        "trusted": true,
        "id": "pdbvOT6Soi2-"
      },
      "source": [
        "eval_input_fn = tf.estimator.inputs.numpy_input_fn(\n",
        "    x = {'x': eval_x},\n",
        "    y = eval_y , \n",
        "    num_epochs = 1 , \n",
        "    shuffle = False\n",
        "    )\n",
        "eval_results = malaria_detector.evaluate(input_fn = eval_input_fn)\n",
        "print(eval_results)"
      ],
      "execution_count": null,
      "outputs": []
    },
    {
      "cell_type": "code",
      "metadata": {
        "_uuid": "a36281e539716be25f596594c34e7c2a04783de2",
        "trusted": true,
        "id": "mPZEkBSEoi2-"
      },
      "source": [
        "pred_input_fn = tf.estimator.inputs.numpy_input_fn(\n",
        "    x = {'x' : test_x},\n",
        "    y = test_y,\n",
        "    num_epochs = 1,\n",
        "    shuffle = False\n",
        "    )\n",
        "\n",
        "y_pred = malaria_detector.predict(input_fn = pred_input_fn)\n",
        "classes = [p['classes'] for p in y_pred]"
      ],
      "execution_count": null,
      "outputs": []
    },
    {
      "cell_type": "code",
      "metadata": {
        "_uuid": "76efc74c3f013168ea4fdadc8fc2e9f5f3b5f465",
        "trusted": true,
        "id": "dEwGFqlKoi2_"
      },
      "source": [
        "from sklearn.metrics import confusion_matrix , classification_report , accuracy_score\n",
        "print('{} \\n{} \\n{}'.format(confusion_matrix(test_y , classes) , \n",
        "                           classification_report(test_y , classes) , \n",
        "                           accuracy_score(test_y , classes)))"
      ],
      "execution_count": null,
      "outputs": []
    },
    {
      "cell_type": "code",
      "metadata": {
        "_uuid": "4a0942e25e79957c5932013fa55d51f7282dd87b",
        "trusted": true,
        "id": "F-StEpaJoi2_"
      },
      "source": [
        "plt.figure(1 , figsize = (15 , 9))\n",
        "n = 0 \n",
        "for i in range(49):\n",
        "    n += 1 \n",
        "    r = np.random.randint( 0  , test_x.shape[0] , 1)\n",
        "    plt.subplot(7 , 7 , n)\n",
        "    plt.subplots_adjust(hspace = 0.5 , wspace = 0.5)\n",
        "    plt.imshow(test_x[r[0]])\n",
        "    plt.title('true {} : pred {}'.format(test_y[r[0]] , classes[r[0]]) )\n",
        "    plt.xticks([]) , plt.yticks([])\n",
        "\n",
        "plt.show()"
      ],
      "execution_count": null,
      "outputs": []
    }
  ]
}